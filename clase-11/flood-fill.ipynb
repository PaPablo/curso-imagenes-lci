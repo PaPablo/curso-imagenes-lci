{
 "cells": [
  {
   "cell_type": "code",
   "execution_count": 1,
   "metadata": {},
   "outputs": [],
   "source": [
    "%matplotlib inline\n",
    "import numpy as np\n",
    "import imageio\n",
    "\n",
    "import matplotlib.pyplot as plt"
   ]
  },
  {
   "cell_type": "code",
   "execution_count": 2,
   "metadata": {},
   "outputs": [],
   "source": [
    "img_b = imageio.imread('data/img_b.png')[:,:,0] /255\n",
    "\n",
    "w, h = 10,10\n",
    "x,y = 120,180\n",
    "crop_img_b = img_b[y:y+h,x:x+w]"
   ]
  },
  {
   "cell_type": "code",
   "execution_count": 3,
   "metadata": {},
   "outputs": [
    {
     "data": {
      "text/plain": [
       "<matplotlib.image.AxesImage at 0x7f6d01c8eee0>"
      ]
     },
     "execution_count": 3,
     "metadata": {},
     "output_type": "execute_result"
    },
    {
     "data": {
      "image/png": "[encoded data removed]",
      "text/plain": [
       "<Figure size 432x288 with 1 Axes>"
      ]
     },
     "metadata": {
      "needs_background": "light"
     },
     "output_type": "display_data"
    }
   ],
   "source": [
    "plt.imshow(crop_img_b\n",
    "           , cmap='gray')"
   ]
  },
  {
   "cell_type": "code",
   "execution_count": 4,
   "metadata": {},
   "outputs": [
    {
     "data": {
      "text/plain": [
       "(250, 250)"
      ]
     },
     "execution_count": 4,
     "metadata": {},
     "output_type": "execute_result"
    }
   ],
   "source": [
    "img_b.shape"
   ]
  },
  {
   "cell_type": "code",
   "execution_count": 5,
   "metadata": {},
   "outputs": [
    {
     "name": "stdout",
     "output_type": "stream",
     "text": [
      "0.0\n"
     ]
    },
    {
     "data": {
      "text/plain": [
       "<matplotlib.image.AxesImage at 0x7f6d01c419d0>"
      ]
     },
     "execution_count": 5,
     "metadata": {},
     "output_type": "execute_result"
    },
    {
     "data": {
      "image/png": "[encoded data removed]",
      "text/plain": [
       "<Figure size 432x288 with 1 Axes>"
      ]
     },
     "metadata": {
      "needs_background": "light"
     },
     "output_type": "display_data"
    }
   ],
   "source": [
    "\"\"\"\n",
    "// A recursive function to replace previous color 'prevC' at  '(x, y)' \n",
    "// and all surrounding pixels of (x, y) with new color 'newC' and\n",
    "floodFil(screen[M][N], x, y, prevC, newC)\n",
    "1) If x or y is outside the screen, then return.\n",
    "2) If color of screen[x][y] is not same as prevC, then return\n",
    "3) Recur for north, south, east and west.\n",
    "    floodFillUtil(screen, x+1, y, prevC, newC);\n",
    "    floodFillUtil(screen, x-1, y, prevC, newC);\n",
    "    floodFillUtil(screen, x, y+1, prevC, newC);\n",
    "    floodFillUtil(screen, x, y-1, prevC, newC); \n",
    "\"\"\"\n",
    "\n",
    "from queue import Queue\n",
    "\n",
    "def get_neighbors(img_shape, pos):\n",
    "    y,x = pos\n",
    "    \n",
    "    h,w = img_shape\n",
    "    \n",
    "\n",
    "    north = (y+1, x  )\n",
    "    south = (y-1, x  )\n",
    "    west =  (y  , x-1)\n",
    "    east =  (y  , x+1)\n",
    "    \n",
    "    return sorted(filter(lambda point: \n",
    "                       point[0] >= 0 and point[0] < h and\n",
    "                        point[1] >= 0 and point[1] < w,\n",
    "                       [north, south, east, west]))\n",
    "    \n",
    "    \n",
    "def color_fill(img, pos, target_color):\n",
    "    \n",
    "    img = np.copy(img)\n",
    "    \n",
    "    color = img[pos]\n",
    "    print(color)\n",
    "\n",
    "    # Seen pixels\n",
    "    seen = np.zeros(img.shape)\n",
    "\n",
    "    queue = Queue()\n",
    "    \n",
    "    queue.put(pos)\n",
    "    \n",
    "\n",
    "    while not queue.empty():\n",
    "        pos = queue.get_nowait()\n",
    "        \n",
    "        img[pos] = target_color\n",
    "        \n",
    "        neighbors = get_neighbors(img.shape, pos)\n",
    "\n",
    "        for n in neighbors:\n",
    "            if seen[n] == 0 and img[n] == color:\n",
    "                seen[n] = 1\n",
    "                queue.put(n)\n",
    "    \n",
    "    return img\n",
    "\n",
    "painted = color_fill(img_b, (200,0),0)\n",
    "plt.imshow(painted, cmap='gray')"
   ]
  },
  {
   "cell_type": "code",
   "execution_count": null,
   "metadata": {},
   "outputs": [],
   "source": []
  },
  {
   "cell_type": "code",
   "execution_count": null,
   "metadata": {},
   "outputs": [],
   "source": []
  },
  {
   "cell_type": "code",
   "execution_count": null,
   "metadata": {},
   "outputs": [],
   "source": []
  }
 ],
 "metadata": {
  "kernelspec": {
   "display_name": "curso-pdi",
   "language": "python",
   "name": "curso-pdi"
  },
  "language_info": {
   "codemirror_mode": {
    "name": "ipython",
    "version": 3
   },
   "file_extension": ".py",
   "mimetype": "text/x-python",
   "name": "python",
   "nbconvert_exporter": "python",
   "pygments_lexer": "ipython3",
   "version": "3.8.3"
  }
 },
 "nbformat": 4,
 "nbformat_minor": 4
}

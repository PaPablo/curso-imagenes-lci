{
 "cells": [
  {
   "cell_type": "code",
   "execution_count": 1,
   "metadata": {},
   "outputs": [],
   "source": [
    "%matplotlib inline\n",
    "import imageio\n",
    "import numpy as np\n",
    "import matplotlib.pyplot as plt"
   ]
  },
  {
   "cell_type": "code",
   "execution_count": 2,
   "metadata": {},
   "outputs": [],
   "source": [
    "img_a = (imageio.imread('data/img_a.png')/255)[:,:,0]\n",
    "\n",
    "# crop_img_a = img_a[45:55,110:120]\n",
    "crop_img_a = img_a[:,:]\n",
    "img_b = (imageio.imread('data/img_b.png')/255)[:,:,0]\n",
    "\n",
    "# crop_img_a = img_a[45:55,110:120]\n",
    "crop_img_b = img_b[:,:]"
   ]
  },
  {
   "cell_type": "code",
   "execution_count": 3,
   "metadata": {},
   "outputs": [
    {
     "data": {
      "text/plain": [
       "<matplotlib.image.AxesImage at 0x7f4d0dce5f40>"
      ]
     },
     "execution_count": 3,
     "metadata": {},
     "output_type": "execute_result"
    },
    {
     "data": {
      "image/png": "[encoded data removed]",
      "text/plain": [
       "<Figure size 432x288 with 1 Axes>"
      ]
     },
     "metadata": {
      "needs_background": "light"
     },
     "output_type": "display_data"
    }
   ],
   "source": [
    "plt.imshow(crop_img_a, cmap='gray')"
   ]
  },
  {
   "cell_type": "code",
   "execution_count": 4,
   "metadata": {},
   "outputs": [],
   "source": [
    "def binarize(image, threshold=.5):\n",
    "    copy = np.copy(image)\n",
    "    \n",
    "    copy[image >= threshold] = 1\n",
    "    copy[image < threshold] = 0\n",
    "    \n",
    "    return copy\n",
    "\n",
    "def get_marching_segmentation(case):\n",
    "    if case == 0:\n",
    "        return np.array([[0,0,0],\n",
    "                         [0,0,0],\n",
    "                         [0,0,0]])\n",
    "    elif case == 1:\n",
    "        return np.array([[0,0,0],\n",
    "                         [1,0,0],\n",
    "                         [0,1,0]])\n",
    "    elif case == 2:\n",
    "        return np.array([[0,0,0],\n",
    "                         [0,0,1],\n",
    "                         [0,1,0]])\n",
    "    elif case == 3:\n",
    "        return np.array([[0,0,0],\n",
    "                         [1,1,1],\n",
    "                         [0,0,0]])\n",
    "    elif case == 4:\n",
    "        return np.array([[0,1,0],\n",
    "                         [0,0,1],\n",
    "                         [0,0,0]])\n",
    "    elif case == 5:\n",
    "        return np.array([[0,1,0],\n",
    "                         [1,0,1],\n",
    "                         [0,1,0]])\n",
    "    elif case == 6:\n",
    "        return np.array([[0,1,0],\n",
    "                         [0,1,0],\n",
    "                         [0,1,0]])\n",
    "    elif case == 7:\n",
    "        return np.array([[0,1,0],\n",
    "                         [1,0,0],\n",
    "                         [0,0,0]])\n",
    "    elif case == 8:\n",
    "        return np.array([[0,1,0],\n",
    "                         [1,0,0],\n",
    "                         [0,0,0]])\n",
    "    elif case == 9:\n",
    "        return np.array([[0,1,0],\n",
    "                         [0,1,0],\n",
    "                         [0,1,0]])\n",
    "    elif case == 10:\n",
    "        return np.array([[0,1,0],\n",
    "                         [1,0,1],\n",
    "                         [0,1,0]])\n",
    "    elif case ==11:\n",
    "        return np.array([[0,1,0],\n",
    "                         [0,0,1],\n",
    "                         [0,0,0]])\n",
    "    elif case ==12:\n",
    "        return np.array([[0,0,0],\n",
    "                         [1,1,1],\n",
    "                         [0,0,0]])\n",
    "    elif case ==13:\n",
    "        return np.array([[0,0,0],\n",
    "                         [0,0,1],\n",
    "                         [0,1,0]])\n",
    "    elif case ==14:\n",
    "        return np.array([[0,0,0],\n",
    "                         [1,0,0],\n",
    "                         [0,1,0]])\n",
    "    elif case ==15:\n",
    "        return np.array([[0,0,0],\n",
    "                         [0,0,0],\n",
    "                         [0,0,0]])\n",
    "\n",
    "\n",
    "def marching_case(portion):\n",
    "    [[a,b,d,c]] = portion.reshape((1,4))\n",
    "\n",
    "    return d + c*2 + b*4 + a*8\n",
    "    \n",
    "def marchig_square_cases(img):\n",
    "    h,w = img.shape\n",
    "    \n",
    "    cases = []\n",
    "    for y in range(h-1):\n",
    "        row = []\n",
    "        for x in range(w-1):\n",
    "            row.append(marching_case(img[y:y+2, x:x+2]))\n",
    "        cases.append(row)\n",
    "        \n",
    "    return np.array(cases).astype(np.uint8) \n",
    "\n",
    "def marching_square_contour(cases):\n",
    "    \n",
    "    return np.vstack(\n",
    "        [\n",
    "            np.hstack([get_marching_segmentation(col) for col in row])\n",
    "            for row in cases]\n",
    "    )\n",
    "            \n",
    "\n",
    "def marching_squares(img, threshold=.5, order=0):\n",
    "    binarized_img = binarize(img, threshold)\n",
    "    \n",
    "    cases = marchig_square_cases(binarized_img)\n",
    "    \n",
    "    return marching_square_contour(cases)"
   ]
  },
  {
   "cell_type": "code",
   "execution_count": 5,
   "metadata": {},
   "outputs": [
    {
     "data": {
      "image/png": "[encoded data removed]",
      "text/plain": [
       "<Figure size 432x288 with 1 Axes>"
      ]
     },
     "metadata": {
      "needs_background": "light"
     },
     "output_type": "display_data"
    },
    {
     "data": {
      "image/png": "[encoded data removed]",
      "text/plain": [
       "<Figure size 432x288 with 1 Axes>"
      ]
     },
     "metadata": {
      "needs_background": "light"
     },
     "output_type": "display_data"
    }
   ],
   "source": [
    "plt.imshow(marching_squares(binarize(crop_img_a, 0.8)), cmap='gray')\n",
    "plt.show()\n",
    "plt.imshow(binarize(crop_img_a, 0.8), cmap='gray')\n",
    "plt.show()"
   ]
  },
  {
   "cell_type": "code",
   "execution_count": null,
   "metadata": {},
   "outputs": [],
   "source": []
  },
  {
   "cell_type": "code",
   "execution_count": null,
   "metadata": {},
   "outputs": [],
   "source": []
  }
 ],
 "metadata": {
  "kernelspec": {
   "display_name": "curso-pdi",
   "language": "python",
   "name": "curso-pdi"
  },
  "language_info": {
   "codemirror_mode": {
    "name": "ipython",
    "version": 3
   },
   "file_extension": ".py",
   "mimetype": "text/x-python",
   "name": "python",
   "nbconvert_exporter": "python",
   "pygments_lexer": "ipython3",
   "version": "3.8.3"
  }
 },
 "nbformat": 4,
 "nbformat_minor": 4
}

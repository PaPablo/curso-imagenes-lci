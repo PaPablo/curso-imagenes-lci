{
 "cells": [
  {
   "cell_type": "code",
   "execution_count": 8,
   "metadata": {},
   "outputs": [],
   "source": [
    "# En este ejemplo pueden haber cosas que no anden en el notebook pero sí en el binder\n",
    "import ipywidgets as widgets\n",
    "from histogramas import apply_y_function_transformation, apply_square, apply_sqrt, apply_lineal_by_parts_to_pixel\n",
    "from PIL import Image\n",
    "import io\n",
    "import numpy as np\n",
    "from IPython.display import FileLink, HTML\n",
    "from datetime import datetime\n",
    "import os"
   ]
  },
  {
   "cell_type": "markdown",
   "metadata": {},
   "source": [
    "# Manipulación de Luminancia"
   ]
  },
  {
   "cell_type": "code",
   "execution_count": 2,
   "metadata": {},
   "outputs": [
    {
     "data": {
      "application/vnd.jupyter.widget-view+json": {
       "model_id": "b8f628153ccb4d97b37d52fe26986719",
       "version_major": 2,
       "version_minor": 0
      },
      "text/plain": [
       "Image(value=b'\\x89PNG\\r\\n\\x1a\\n\\x00\\x00\\x00\\rIHDR\\x00\\x00\\x02\\x80\\x00\\x00\\x01\\x90\\x08\\x06\\x00\\x00\\x00>\\xf3\\xd1…"
      ]
     },
     "metadata": {},
     "output_type": "display_data"
    },
    {
     "data": {
      "application/vnd.jupyter.widget-view+json": {
       "model_id": "6c5f70a7fb2c4d2eb941463e2f2592be",
       "version_major": 2,
       "version_minor": 0
      },
      "text/plain": [
       "Label(value='')"
      ]
     },
     "metadata": {},
     "output_type": "display_data"
    }
   ],
   "source": [
    "image = widgets.Image(\n",
    "    value=open('data/upload.png', 'rb').read(),\n",
    "    width=800,\n",
    ")\n",
    "info_text = widgets.Label()\n",
    "display(image)\n",
    "display(info_text)"
   ]
  },
  {
   "cell_type": "code",
   "execution_count": 3,
   "metadata": {},
   "outputs": [
    {
     "data": {
      "application/vnd.jupyter.widget-view+json": {
       "model_id": "438b64e6d0a34ad995384d778235e915",
       "version_major": 2,
       "version_minor": 0
      },
      "text/plain": [
       "FileUpload(value={}, description='Upload')"
      ]
     },
     "metadata": {},
     "output_type": "display_data"
    }
   ],
   "source": [
    "file_upload = widgets.FileUpload()\n",
    "def handle_change(change):\n",
    "    image.value = file_upload.data[0]\n",
    "\n",
    "file_upload.observe(handle_change, names='data')\n",
    "\n",
    "display(file_upload)"
   ]
  },
  {
   "cell_type": "code",
   "execution_count": 4,
   "metadata": {},
   "outputs": [],
   "source": [
    "# Aplicar filtro cuadrado\n",
    "apply_square_filter_button = widgets.Button(description=\"Aplica cuadrado\")\n",
    "apply_sqr_root_filter_button = widgets.Button(description=\"Aplica raiz\")\n",
    "apply_by_parts_button = widgets.Button(description=\"Aplicar lineal por partes\")\n",
    "lower_slider = widgets.FloatSlider(\n",
    "    value=0,\n",
    "    min=0,\n",
    "    max=1,\n",
    "    step=0.001,\n",
    "    description='Umbral inferior:',\n",
    "    disabled=False,\n",
    "    continuous_update=False,\n",
    "    orientation='horizontal',\n",
    "    readout=True,\n",
    "    readout_format='.3f',\n",
    ")\n",
    "upper_slider = widgets.FloatSlider(\n",
    "    value=1,\n",
    "    min=0,\n",
    "    max=1,\n",
    "    step=0.001,\n",
    "    description='Umbral superior:',\n",
    "    disabled=False,\n",
    "    continuous_update=False,\n",
    "    orientation='horizontal',\n",
    "    readout=True,\n",
    "    readout_format='.3f',\n",
    ")\n",
    "\n",
    "def get_by_parts_args():\n",
    "    return {\n",
    "        'lower': lower_slider.value,\n",
    "        'upper': upper_slider.value\n",
    "    }\n",
    "\n",
    "def generate_handler_with_args(function, args_function):\n",
    "    \n",
    "    def f(button):\n",
    "        args = args_function()\n",
    "        apply_f = function(**args)\n",
    "        generate_handler(apply_f)(button)\n",
    "    \n",
    "    return f\n",
    "\n",
    "def generate_handler(function):\n",
    "    def _click_handler(button):\n",
    "        info_text.value=\"Procesando...\"\n",
    "        \n",
    "        # Convert to RGB since we're not interested in the alpha channel\n",
    "        input_img = np.array(Image.open(io.BytesIO(image.value)).convert(\"RGB\"))\n",
    "\n",
    "        # Transformed image\n",
    "        output_image = apply_y_function_transformation(input_img, function)\n",
    "\n",
    "        # Generate PIL Image object \n",
    "        output_image_pil = Image.fromarray(output_image.astype(np.uint8))\n",
    "\n",
    "        fp = io.BytesIO()\n",
    "\n",
    "        output_image_pil.save(fp, format=image.format)\n",
    "\n",
    "        # Show generated image\n",
    "        image.value = fp.getvalue()\n",
    "        info_text.value=\"Listo!\"\n",
    "    \n",
    "    return _click_handler\n",
    "    \n",
    "apply_square_filter_button.on_click(generate_handler(apply_square))\n",
    "apply_sqr_root_filter_button.on_click(generate_handler(apply_sqrt))\n",
    "apply_by_parts_button.on_click(generate_handler_with_args(apply_lineal_by_parts_to_pixel,get_by_parts_args))"
   ]
  },
  {
   "cell_type": "code",
   "execution_count": 5,
   "metadata": {},
   "outputs": [],
   "source": [
    "power_buttons = widgets.HBox([apply_sqr_root_filter_button, apply_square_filter_button])\n",
    "by_parts_widgets = widgets.HBox([lower_slider, upper_slider, apply_by_parts_button])"
   ]
  },
  {
   "cell_type": "code",
   "execution_count": 6,
   "metadata": {},
   "outputs": [
    {
     "data": {
      "application/vnd.jupyter.widget-view+json": {
       "model_id": "bb3d2db7fac34878b88a1e92ad7d85fa",
       "version_major": 2,
       "version_minor": 0
      },
      "text/plain": [
       "VBox(children=(HBox(children=(Button(description='Aplica raiz', style=ButtonStyle()), Button(description='Apli…"
      ]
     },
     "metadata": {},
     "output_type": "display_data"
    }
   ],
   "source": [
    "widgets.VBox([power_buttons, by_parts_widgets], disabled=True)"
   ]
  },
  {
   "cell_type": "code",
   "execution_count": 7,
   "metadata": {},
   "outputs": [
    {
     "data": {
      "application/vnd.jupyter.widget-view+json": {
       "model_id": "2f80012f0a104156be60c705b8c989a2",
       "version_major": 2,
       "version_minor": 0
      },
      "text/plain": [
       "Button(description='Guardar imágen', style=ButtonStyle())"
      ]
     },
     "metadata": {},
     "output_type": "display_data"
    },
    {
     "data": {
      "application/vnd.jupyter.widget-view+json": {
       "model_id": "90ae28e0252a4088ad43246d23163b4d",
       "version_major": 2,
       "version_minor": 0
      },
      "text/plain": [
       "HTML(value='')"
      ]
     },
     "metadata": {},
     "output_type": "display_data"
    }
   ],
   "source": [
    "# Guardar imágen\n",
    "export_button = widgets.Button(description=\"Guardar imágen\")\n",
    "download_link = widgets.HTML()\n",
    "def handle_export_button_click(button):\n",
    "\n",
    "    timestamp = datetime.strftime(datetime.now(), \"%Y%m%d%H%M%S\")\n",
    "    full_name = f\"data/export/export-{timestamp}.{image.format}\"\n",
    "    file_name = full_name.split('/')[-1]\n",
    "    \n",
    "    if not os.path.isdir('data/export'):\n",
    "        os.mkdir('data/export')\n",
    "        \n",
    "    fh = open(full_name, 'wb')\n",
    "    \n",
    "    fh.write(image.value)\n",
    "    \n",
    "    download_link.value = f'<a download=\"{file_name}\" href=\"{full_name}\">descargar</a>'\n",
    "\n",
    "export_button.on_click(handle_export_button_click)\n",
    "display(export_button)\n",
    "display(download_link)"
   ]
  },
  {
   "cell_type": "code",
   "execution_count": null,
   "metadata": {},
   "outputs": [],
   "source": []
  }
 ],
 "metadata": {
  "kernelspec": {
   "display_name": "curso-pdi",
   "language": "python",
   "name": "curso-pdi"
  },
  "language_info": {
   "codemirror_mode": {
    "name": "ipython",
    "version": 3
   },
   "file_extension": ".py",
   "mimetype": "text/x-python",
   "name": "python",
   "nbconvert_exporter": "python",
   "pygments_lexer": "ipython3",
   "version": "3.7.4"
  }
 },
 "nbformat": 4,
 "nbformat_minor": 4
}

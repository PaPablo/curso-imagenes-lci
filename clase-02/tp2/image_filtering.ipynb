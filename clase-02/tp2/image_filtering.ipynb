{
 "cells": [
  {
   "cell_type": "code",
   "execution_count": 9,
   "metadata": {},
   "outputs": [],
   "source": [
    "import ipywidgets as widgets\n",
    "from histogramas import apply_y_function_transformation, apply_square, apply_sqrt, apply_lineal_by_parts\n",
    "from PIL import Image\n",
    "import io"
   ]
  },
  {
   "cell_type": "code",
   "execution_count": 2,
   "metadata": {},
   "outputs": [
    {
     "data": {
      "application/vnd.jupyter.widget-view+json": {
       "model_id": "b212f6f730ab45a2a7a79546d4476311",
       "version_major": 2,
       "version_minor": 0
      },
      "text/plain": [
       "Image(value=b'\\x89PNG\\r\\n\\x1a\\n\\x00\\x00\\x00\\rIHDR\\x00\\x00\\x02\\x80\\x00\\x00\\x01\\x90\\x08\\x06\\x00\\x00\\x00>\\xf3\\xd1…"
      ]
     },
     "metadata": {},
     "output_type": "display_data"
    }
   ],
   "source": [
    "image = widgets.Image(\n",
    "    value=open('data/upload.png', 'rb').read(),\n",
    "    width=800,\n",
    ")\n",
    "display(image)"
   ]
  },
  {
   "cell_type": "code",
   "execution_count": 3,
   "metadata": {},
   "outputs": [
    {
     "data": {
      "application/vnd.jupyter.widget-view+json": {
       "model_id": "7aa08ccdddc74535bfd5dbc1cfb46f62",
       "version_major": 2,
       "version_minor": 0
      },
      "text/plain": [
       "FileUpload(value={}, description='Upload')"
      ]
     },
     "metadata": {},
     "output_type": "display_data"
    }
   ],
   "source": [
    "file_upload = widgets.FileUpload()\n",
    "display(file_upload)"
   ]
  },
  {
   "cell_type": "code",
   "execution_count": 4,
   "metadata": {},
   "outputs": [],
   "source": [
    "def handle_change(change):\n",
    "    image.value = file_upload.data[0]\n",
    "    \n",
    "file_upload.observe(handle_change, names='data')"
   ]
  },
  {
   "cell_type": "code",
   "execution_count": 12,
   "metadata": {},
   "outputs": [
    {
     "data": {
      "application/vnd.jupyter.widget-view+json": {
       "model_id": "7bc1fc4009b2405cac00960726711db3",
       "version_major": 2,
       "version_minor": 0
      },
      "text/plain": [
       "Button(description='Aplica cuadrado', style=ButtonStyle())"
      ]
     },
     "metadata": {},
     "output_type": "display_data"
    }
   ],
   "source": [
    "# Aplicar filtro cuadrado\n",
    "apply_square_filter_button = widgets.Button(description=\"Aplica cuadrado\")\n",
    "display(apply_square_filter_button)\n",
    "\n",
    "def handle_apply_square_click(button):\n",
    "    input_img = Image.open(io.BytesIO(image.value))\n",
    "    \n",
    "    output_image = apply_y_function_transformation(input_img, apply_square)\n",
    "    \n",
    "    image.value = output_image\n",
    "    print(\"Hello\")\n",
    "\n",
    "\n",
    "apply_square_filter_button.on_click(handle_apply_square_click)"
   ]
  },
  {
   "cell_type": "code",
   "execution_count": null,
   "metadata": {},
   "outputs": [],
   "source": []
  },
  {
   "cell_type": "code",
   "execution_count": null,
   "metadata": {},
   "outputs": [],
   "source": []
  }
 ],
 "metadata": {
  "kernelspec": {
   "display_name": "curso-pdi",
   "language": "python",
   "name": "curso-pdi"
  },
  "language_info": {
   "codemirror_mode": {
    "name": "ipython",
    "version": 3
   },
   "file_extension": ".py",
   "mimetype": "text/x-python",
   "name": "python",
   "nbconvert_exporter": "python",
   "pygments_lexer": "ipython3",
   "version": "3.7.3"
  }
 },
 "nbformat": 4,
 "nbformat_minor": 4
}
